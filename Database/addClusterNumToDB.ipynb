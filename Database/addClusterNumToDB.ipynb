{
 "cells": [
  {
   "cell_type": "code",
   "execution_count": 1,
   "id": "1d5e1020",
   "metadata": {},
   "outputs": [],
   "source": [
    "import pandas as pd\n",
    "\n",
    "import sys\n",
    "sys.path.append('..')\n",
    "from Analysis.config import Config\n"
   ]
  },
  {
   "cell_type": "code",
   "execution_count": 2,
   "id": "5de56928",
   "metadata": {},
   "outputs": [],
   "source": [
    "# Load sqlite3\n",
    "import sqlite3\n",
    "conn = sqlite3.connect(\"../rosteriq.db\")\n",
    "cursor = conn.cursor()"
   ]
  },
  {
   "cell_type": "code",
   "execution_count": 12,
   "id": "437b636d",
   "metadata": {},
   "outputs": [],
   "source": [
    "# Add new column\n",
    "cursor.execute(\"ALTER TABLE Player_Seasons ADD COLUMN player_cluster INT\")\n",
    "conn.commit()"
   ]
  },
  {
   "cell_type": "code",
   "execution_count": 3,
   "id": "b916e298",
   "metadata": {},
   "outputs": [
    {
     "ename": "KeyboardInterrupt",
     "evalue": "",
     "output_type": "error",
     "traceback": [
      "\u001b[31m---------------------------------------------------------------------------\u001b[39m",
      "\u001b[31mKeyboardInterrupt\u001b[39m                         Traceback (most recent call last)",
      "\u001b[36mCell\u001b[39m\u001b[36m \u001b[39m\u001b[32mIn[3]\u001b[39m\u001b[32m, line 12\u001b[39m\n\u001b[32m     10\u001b[39m         cluster = plyr[\u001b[33m\"\u001b[39m\u001b[33mCluster\u001b[39m\u001b[33m\"\u001b[39m]\n\u001b[32m     11\u001b[39m         season_year = plyr[\u001b[33m'\u001b[39m\u001b[33mseason_year\u001b[39m\u001b[33m'\u001b[39m]\n\u001b[32m---> \u001b[39m\u001b[32m12\u001b[39m         \u001b[43mcursor\u001b[49m\u001b[43m.\u001b[49m\u001b[43mexecute\u001b[49m\u001b[43m(\u001b[49m\u001b[33;43m\"\"\"\u001b[39;49m\n\u001b[32m     13\u001b[39m \u001b[33;43m            UPDATE Player_Seasons \u001b[39;49m\n\u001b[32m     14\u001b[39m \u001b[33;43m            SET player_cluster = ? \u001b[39;49m\n\u001b[32m     15\u001b[39m \u001b[33;43m            WHERE player_id = ? \u001b[39;49m\n\u001b[32m     16\u001b[39m \u001b[33;43m            AND team_name = ? \u001b[39;49m\n\u001b[32m     17\u001b[39m \u001b[33;43m            AND season_year = ? \u001b[39;49m\n\u001b[32m     18\u001b[39m \u001b[33;43m            AND player_cluster IS NULL\u001b[39;49m\n\u001b[32m     19\u001b[39m \u001b[33;43m        \u001b[39;49m\u001b[33;43m\"\"\"\u001b[39;49m\u001b[43m,\u001b[49m\u001b[43m \u001b[49m\u001b[43m(\u001b[49m\u001b[43mcluster\u001b[49m\u001b[43m,\u001b[49m\u001b[43m \u001b[49m\u001b[38;5;28;43mid\u001b[39;49m\u001b[43m,\u001b[49m\u001b[43m \u001b[49m\u001b[43mteam_name\u001b[49m\u001b[43m,\u001b[49m\u001b[43m \u001b[49m\u001b[43mseason_year\u001b[49m\u001b[43m)\u001b[49m\u001b[43m)\u001b[49m\n\u001b[32m     21\u001b[39m conn.commit()  \u001b[38;5;66;03m# Commit once per year instead of per position\u001b[39;00m\n",
      "\u001b[31mKeyboardInterrupt\u001b[39m: "
     ]
    }
   ],
   "source": [
    "# Add the player cluster numbers to the database\n",
    "position = [\"G\", \"F\", \"C\"]\n",
    "for year in range(Config.START_YEAR, Config.END_YEAR_EXCLUDE):\n",
    "    for pos in position:\n",
    "        df = pd.read_csv(f\"../Analysis/Clustering/Players/{year}/KClustering/player_labels_{pos}.csv\")\n",
    "\n",
    "        for _, plyr in df.iterrows():\n",
    "            id = plyr[\"player_id\"]\n",
    "            team_name = plyr['team_name']\n",
    "            cluster = plyr[\"Cluster\"]\n",
    "            season_year = plyr['season_year']\n",
    "            cursor.execute(\"\"\"\n",
    "                UPDATE Player_Seasons \n",
    "                SET player_cluster = ? \n",
    "                WHERE player_id = ? \n",
    "                AND team_name = ? \n",
    "                AND season_year = ? \n",
    "                AND player_cluster IS NULL\n",
    "            \"\"\", (cluster, id, team_name, season_year))\n",
    "    \n",
    "    conn.commit()  # Commit once per year instead of per position"
   ]
  },
  {
   "cell_type": "code",
   "execution_count": 15,
   "id": "cd17f8d7",
   "metadata": {},
   "outputs": [
    {
     "data": {
      "text/plain": [
       "<sqlite3.Cursor at 0x10fa9b340>"
      ]
     },
     "execution_count": 15,
     "metadata": {},
     "output_type": "execute_result"
    }
   ],
   "source": [
    "# Rename team cluster name\n",
    "cursor.execute(\"\"\"ALTER TABLE Team_Seasons\n",
    "RENAME COLUMN cluster TO team_cluster;\"\"\")"
   ]
  },
  {
   "cell_type": "code",
   "execution_count": 4,
   "id": "ba76c561",
   "metadata": {},
   "outputs": [],
   "source": [
    "# Add the team cluster numbers to the database\n",
    "for year in range(Config.START_YEAR, Config.END_YEAR_EXCLUDE):\n",
    "    team_df = pd.read_csv(f\"../Analysis/Clustering/Teams/{year}/KClustering/labels.csv\")\n",
    "\n",
    "    for _, team in team_df.iterrows():\n",
    "        team_name = team['team_name']\n",
    "        season_year = team['season_year']\n",
    "        team_cluster = team['team_cluster']\n",
    "        cursor.execute(\"\"\"\n",
    "                         UPDATE Team_Seasons\n",
    "                         SET team_cluster = ?\n",
    "                         WHERE team_name = ? AND season_year = ?\"\"\", \n",
    "                         (team_cluster, team_name, season_year))\n",
    "    \n",
    "    conn.commit()\n",
    "\n",
    "conn.close()"
   ]
  },
  {
   "cell_type": "code",
   "execution_count": 3,
   "id": "dca8caae",
   "metadata": {},
   "outputs": [
    {
     "data": {
      "text/plain": [
       "<sqlite3.Cursor at 0x129e7ebc0>"
      ]
     },
     "execution_count": 3,
     "metadata": {},
     "output_type": "execute_result"
    }
   ],
   "source": [
    "# Delete an old table\n",
    "cursor.execute(\"DROP TABLE TempMatches;\")"
   ]
  }
 ],
 "metadata": {
  "kernelspec": {
   "display_name": ".venv (3.13.7)",
   "language": "python",
   "name": "python3"
  },
  "language_info": {
   "codemirror_mode": {
    "name": "ipython",
    "version": 3
   },
   "file_extension": ".py",
   "mimetype": "text/x-python",
   "name": "python",
   "nbconvert_exporter": "python",
   "pygments_lexer": "ipython3",
   "version": "3.13.7"
  }
 },
 "nbformat": 4,
 "nbformat_minor": 5
}
