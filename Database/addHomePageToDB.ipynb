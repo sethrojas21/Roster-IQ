{
 "cells": [
  {
   "cell_type": "code",
   "execution_count": 1,
   "id": "307e3aac",
   "metadata": {},
   "outputs": [],
   "source": [
    "import pandas as pd\n",
    "import sqlite3\n",
    "\n",
    "df = pd.read_csv('../Streamlit/Data/CSV/home_df.csv', index_col=False)"
   ]
  },
  {
   "cell_type": "code",
   "execution_count": 4,
   "id": "848832cc",
   "metadata": {},
   "outputs": [],
   "source": [
    "conn = sqlite3.connect('../rosteriq.db')\n",
    "cursor = conn.cursor()"
   ]
  },
  {
   "cell_type": "code",
   "execution_count": 5,
   "id": "a40669c8",
   "metadata": {},
   "outputs": [],
   "source": [
    "cursor.execute(\"\"\"\n",
    "CREATE TABLE IF NOT EXISTS Home_Page (\n",
    "season_year INT,\n",
    "player_name TEXT,\n",
    "player_id INT,\n",
    "player_year INT,\n",
    "team_name TEXT,\n",
    "position TEXT,\n",
    "height_inches INT\n",
    ")\"\"\")\n",
    "conn.commit()"
   ]
  },
  {
   "cell_type": "code",
   "execution_count": 6,
   "id": "5b3ecd1d",
   "metadata": {},
   "outputs": [],
   "source": [
    "# Add data to table\n",
    "data_2d = df.values.tolist()\n",
    "cursor.executemany(\"\"\"INSERT INTO Home_Page\n",
    "                   (season_year, player_name, player_id, player_year, team_name, position, height_inches)\n",
    "                   VALUES (?, ?, ?, ?, ?, ?, ?)\"\"\",\n",
    "                   data_2d)\n",
    "conn.commit()\n",
    "cursor.close()\n",
    "conn.close()"
   ]
  }
 ],
 "metadata": {
  "kernelspec": {
   "display_name": ".venv (3.13.7)",
   "language": "python",
   "name": "python3"
  },
  "language_info": {
   "codemirror_mode": {
    "name": "ipython",
    "version": 3
   },
   "file_extension": ".py",
   "mimetype": "text/x-python",
   "name": "python",
   "nbconvert_exporter": "python",
   "pygments_lexer": "ipython3",
   "version": "3.13.7"
  }
 },
 "nbformat": 4,
 "nbformat_minor": 5
}
